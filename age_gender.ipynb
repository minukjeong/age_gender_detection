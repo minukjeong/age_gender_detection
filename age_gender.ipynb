{
 "cells": [
  {
   "cell_type": "markdown",
   "metadata": {},
   "source": [
    "라이브러리 불러오기"
   ]
  },
  {
   "cell_type": "code",
   "execution_count": null,
   "metadata": {},
   "outputs": [],
   "source": [
    "import torch\n",
    "import torch.nn as nn\n",
    "import torch.optim as optim\n",
    "from torch.optim import lr_scheduler\n",
    "import numpy as np\n",
    "import torchvision\n",
    "from torchvision import datasets, models, transforms\n",
    "import matplotlib.pyplot as plt\n",
    "import time\n",
    "import os\n",
    "import pandas as pd\n",
    "import copy\n",
    "from torch.utils.data import Dataset, DataLoader\n",
    "from PIL import Image\n",
    "from random import randrange\n",
    "from sklearn.metrics import f1_score\n",
    "from resnet import resnet50\n",
    "from sklearn.model_selection import train_test_split"
   ]
  },
  {
   "cell_type": "code",
   "execution_count": null,
   "metadata": {},
   "outputs": [],
   "source": [
    "os.environ['CUDA_VISIBLE_DEVICES'] = '0' #cudu 설정"
   ]
  },
  {
   "cell_type": "markdown",
   "metadata": {},
   "source": [
    "데이터 셋 불러오기"
   ]
  },
  {
   "cell_type": "code",
   "execution_count": null,
   "metadata": {},
   "outputs": [],
   "source": [
    "df = pd.read_csv(\"dataset/gender_age_detection.csv\")\n",
    "\n",
    "x = df[\"img_path\"]\n",
    "y = df[[\"age\", \"gender\"]]"
   ]
  },
  {
   "cell_type": "markdown",
   "metadata": {},
   "source": [
    "train, test 데이터셋 분리하기"
   ]
  },
  {
   "cell_type": "code",
   "execution_count": null,
   "metadata": {},
   "outputs": [],
   "source": [
    "x_train, x_test, y_train, y_test = train_test_split(x, y, test_size=0.20, random_state=42)\n",
    "\n",
    "x_train = x_train.values.tolist()\n",
    "x_test = x_test.values.tolist()\n",
    "\n",
    "age = [\"age\"]\n",
    "age_train = y_train[age]\n",
    "age_nodes = age_train.shape[1]\n",
    "age_train = age_train.values.tolist()\n",
    "\n",
    "gender = [\"gender\"]\n",
    "gender_train = y_train[gender]\n",
    "gender_nodes = gender_train.shape[1]\n",
    "gender_train = gender_train.values.tolist()\n",
    "\n",
    "age = [\"age\"]\n",
    "age_test = y_test[age]\n",
    "age_nodes = age_test.shape[1]\n",
    "age_test = age_test.values.tolist()\n",
    "\n",
    "gender = [\"gender\"]\n",
    "gender_test = y_test[gender]\n",
    "gender_nodes = gender_test.shape[1]\n",
    "gender_test = gender_test.values.tolist()"
   ]
  },
  {
   "cell_type": "markdown",
   "metadata": {},
   "source": [
    "Custom_dataset 만들기"
   ]
  },
  {
   "cell_type": "code",
   "execution_count": null,
   "metadata": {},
   "outputs": [],
   "source": [
    "class Custom_dataset(Dataset):\n",
    "    def __init__(self, image_lists, transform=None):\n",
    "\n",
    "        self.image_lists = image_lists\n",
    "        self.transform = transform\n",
    "\n",
    "    def __getitem__(self, index):\n",
    "        # random_index = randrange(len(self.king_of_lists[index]))\n",
    "\n",
    "        img1 = Image.open(self.image_lists[0][index])\n",
    "        img1 = img1.convert('RGB')\n",
    "\n",
    "        age = self.image_lists[1][index]  # region\n",
    "        gender = self.image_lists[2][index]  # gender\n",
    "        if self.transform is not None:\n",
    "            img1 = self.transform(img1)\n",
    "\n",
    "        list_of_labels = [torch.from_numpy(np.array(age)),\n",
    "                          torch.from_numpy(np.array(gender))]\n",
    "\n",
    "        return img1, list_of_labels[0], list_of_labels[1]\n",
    "\n",
    "    def __len__(self):\n",
    "        return len(self.image_lists[0])"
   ]
  },
  {
   "cell_type": "markdown",
   "metadata": {},
   "source": [
    "data_transform"
   ]
  },
  {
   "cell_type": "code",
   "execution_count": null,
   "metadata": {},
   "outputs": [],
   "source": [
    "batch_size = 32 #배치사이즈 설정\n",
    "\n",
    "data_transforms = {\n",
    "    'train': transforms.Compose([\n",
    "        transforms.Resize((227,227)),\n",
    "        transforms.RandomResizedCrop(224),\n",
    "        transforms.RandomHorizontalFlip(),\n",
    "        transforms.ToTensor(),\n",
    "        transforms.Normalize([0.485, 0.456, 0.406], [0.229, 0.224, 0.225])\n",
    "    ]),\n",
    "    'val': transforms.Compose([\n",
    "        transforms.Resize((224,224)),\n",
    "        #transforms.CenterCrop(224),\n",
    "        transforms.ToTensor(),\n",
    "        transforms.Normalize([0.485, 0.456, 0.406], [0.229, 0.224, 0.225])\n",
    "    ]),\n",
    "}  "
   ]
  },
  {
   "cell_type": "markdown",
   "metadata": {},
   "source": [
    "dataloaders"
   ]
  },
  {
   "cell_type": "code",
   "execution_count": null,
   "metadata": {},
   "outputs": [],
   "source": [
    "train_lists = [x_train, age_train, gender_train]\n",
    "test_lists = [x_test, age_test, gender_test]\n",
    "\n",
    "training_dataset = Custom_dataset(image_lists=train_lists, transform=data_transforms['train'] )\n",
    "\n",
    "test_dataset = Custom_dataset(image_lists=test_lists, transform=data_transforms['val'] )\n",
    "\n",
    "dataloaders_dict ={'train': torch.utils.data.DataLoader(training_dataset, batch_size=batch_size, shuffle=True, num_workers=0),\n",
    "                   'val': torch.utils.data.DataLoader(test_dataset, batch_size=batch_size, shuffle=True, num_workers=0)\n",
    "                    }\n",
    "\n",
    "dataset_sizes = {'train':len(train_lists[0]),\n",
    "                'val':len(test_lists[0])}"
   ]
  },
  {
   "cell_type": "code",
   "execution_count": null,
   "metadata": {},
   "outputs": [],
   "source": [
    "device = torch.device(\"cuda:0\" if torch.cuda.is_available() else \"cpu\")\n",
    "print(device)\n",
    "criterion = [nn.CrossEntropyLoss(), nn.BCEWithLogitsLoss()] #loss 설정"
   ]
  },
  {
   "cell_type": "markdown",
   "metadata": {},
   "source": [
    "epoch 옵션 주기 및 best_acc 뽑기"
   ]
  },
  {
   "cell_type": "code",
   "execution_count": null,
   "metadata": {},
   "outputs": [],
   "source": [
    "def train_model(model, criterion, optimizer, scheduler, num_epochs=25):\n",
    "    since = time.time()\n",
    "    best_model_wts = copy.deepcopy(model.state_dict())\n",
    "    best_acc = 0.\n",
    "\n",
    "    for epoch in range(num_epochs):\n",
    "        print('Epoch {}/{}'.format(epoch, num_epochs - 1))\n",
    "        print('-' * 10)\n",
    "\n",
    "        # Each epoch has a training and validation phase\n",
    "        for phase in ['train', 'val']:\n",
    "            if phase == 'train':\n",
    "                scheduler.step()\n",
    "                model_ft.train()  # Set model to training mode\n",
    "            else:\n",
    "                model_ft.eval()  # Set model to evaluate mode\n",
    "\n",
    "            running_loss = 0.0\n",
    "            running_corrects = 0\n",
    "            age_corrects = 0.0\n",
    "            gender_corrects = 0.0\n",
    "\n",
    "            # Iterate over data.\n",
    "            for i, (inputs, age, gen) in enumerate(dataloaders_dict[phase]):\n",
    "            # dkfdkqhrl\n",
    "                inputs = inputs.to(device)\n",
    "                age = age.to(device)\n",
    "                gen = gen.to(device)\n",
    "                optimizer.zero_grad()\n",
    "\n",
    "                # forward\n",
    "                # track history if only in train\n",
    "                with torch.set_grad_enabled(phase == 'train'):\n",
    "                    outputs = model_ft(inputs)\n",
    "                #_, preds = torch.max(outputs, 1)\n",
    "                    loss0 = criterion[0](outputs[0], torch.max(age, 1)[0])\n",
    "                #loss0 = criterion[0](outputs[0], age)\n",
    "                    loss1 = criterion[1](outputs[1], gen.float())\n",
    "\n",
    "\n",
    "                    # backward + optimize only if in training phase\n",
    "                    if phase == 'train':\n",
    "                        loss = loss0 + loss1\n",
    "                        print(f'i : {i} / {int((dataset_sizes[phase] / batch_size))}, loss : {loss.item()}')\n",
    "                        loss.backward()\n",
    "                        optimizer_ft.step()\n",
    "\n",
    "                # statistics\n",
    "                running_loss += loss.item() * inputs.size(0)\n",
    "                age_corrects += torch.sum(torch.max(outputs[0], 1)[0] == torch.max(age, 1)[0])\n",
    "                #age_corrects += torch.sum(torch.max(outputs[0], 1)[1] == age.float())\n",
    "                gender_corrects += torch.sum(torch.round(outputs[1]) == gen.float())\n",
    "                #gender_corrects.append(float((np.rint(outputs[1].cpu().detach().numpy()) == gen.float()).sum()))\n",
    "\n",
    "\n",
    "                # color_corrects += torch.sum(outputs[4] == color.float())\n",
    "            if phase == 'train':\n",
    "                scheduler.step()\n",
    "\n",
    "            epoch_loss = running_loss / dataset_sizes[phase]\n",
    "            age_acc = age_corrects.double() / dataset_sizes[phase]\n",
    "            gender_acc = gender_corrects.double() / dataset_sizes[phase]\n",
    "        #age_acc = age_corrects / dataset_sizes[phase]\n",
    "        #gender_acc = gender_corrects / dataset_sizes[phase]\n",
    "            print('===================================================================')\n",
    "            print('phase : {} epoch : {} age_loss : {} gender_loss : {} total_loss : {}'.format(phase, epoch, loss0, loss1, epoch_loss))\n",
    "            print('phase : {} age_acc : {} / gender_acc : {}'.format(phase, age_acc, gender_acc))\n",
    "            print('===================================================================')\n",
    "\n",
    "\n",
    "            current_acc = (age_acc + gender_acc) / 2.\n",
    "\n",
    "            # deep copy the model\n",
    "            if phase == 'val' and best_acc < current_acc:\n",
    "                print('saving with loss of {}'.format(epoch_loss),\n",
    "                    'improved over previous {}'.format(best_acc))\n",
    "                best_acc = current_acc\n",
    "                best_model_wts = copy.deepcopy(model_ft.state_dict())\n",
    "        print()\n",
    "\n",
    "    time_elapsed = time.time() - since\n",
    "    print('Training complete in {:.0f}m {:.0f}s'.format(\n",
    "        time_elapsed // 60, time_elapsed % 60))\n",
    "    print('Best val Acc: {:4f}'.format(float(best_acc)))\n",
    "\n",
    "    # load best model weights\n",
    "    model.load_state_dict(best_model_wts)\n",
    "    return model"
   ]
  },
  {
   "cell_type": "markdown",
   "metadata": {},
   "source": [
    "하이퍼 파라미터 튜닝 및 학습"
   ]
  },
  {
   "cell_type": "code",
   "execution_count": null,
   "metadata": {},
   "outputs": [],
   "source": [
    "model_ft = resnet50() #모델 불러오기\n",
    "model_ft.to(device)\n",
    "print(model_ft)\n",
    "\n",
    "optimizer_grouped_parameters = [\n",
    "    {'params': [p for n, p in model_ft.named_parameters()]}\n",
    "]\n",
    "optimizer_ft = optim.Adam(optimizer_grouped_parameters, lr = 0.0001) #옵티마이저 값 주기\n",
    "scheduler = torch.optim.lr_scheduler.StepLR(optimizer_ft, step_size=10, gamma=0.1)\n",
    "\n",
    "model_ft1 = train_model(model_ft, criterion, optimizer_ft, scheduler, num_epochs=50)\n",
    "torch.save(model_ft1.state_dict(), 'model.pt')\n"
   ]
  }
 ],
 "metadata": {
  "language_info": {
   "name": "python"
  },
  "orig_nbformat": 4
 },
 "nbformat": 4,
 "nbformat_minor": 2
}
